{
 "cells": [
  {
   "cell_type": "markdown",
   "id": "0eb930f8",
   "metadata": {},
   "source": [
    "- 가장 기본적인 List Comprehension"
   ]
  },
  {
   "cell_type": "code",
   "execution_count": 5,
   "id": "8edbc979",
   "metadata": {},
   "outputs": [
    {
     "name": "stdout",
     "output_type": "stream",
     "text": [
      "[1, 2, 3, 4, 5, 6, 7, 8, 9, 10]\n"
     ]
    }
   ],
   "source": [
    "list1 = [1,2,3,4,5,6,7,8,9,10]\n",
    "print([x for x in list1])"
   ]
  },
  {
   "cell_type": "markdown",
   "id": "6df3304d",
   "metadata": {},
   "source": [
    "- 함수 또는 연산을 추가한 List Comprehension"
   ]
  },
  {
   "cell_type": "code",
   "execution_count": 17,
   "id": "f66d6e36",
   "metadata": {},
   "outputs": [
    {
     "data": {
      "text/plain": [
       "[2, 4, 6, 8, 10, 12, 14, 16, 18, 20]"
      ]
     },
     "execution_count": 17,
     "metadata": {},
     "output_type": "execute_result"
    }
   ],
   "source": [
    "def ftn(x):\n",
    "    return x*2\n",
    "\n",
    "[ftn(x) for x in list1]"
   ]
  },
  {
   "cell_type": "markdown",
   "id": "149c0cd7",
   "metadata": {},
   "source": [
    "- 조건문을 추가한 List Comprehension\n",
    "    - 조건이 True인 요소들만 리스트에 추가한다\n",
    "    - 조건이 False인 친구들은 Drop된다."
   ]
  },
  {
   "cell_type": "code",
   "execution_count": 8,
   "id": "57ceb8d8",
   "metadata": {},
   "outputs": [
    {
     "data": {
      "text/plain": [
       "[2, 4, 6, 8, 10]"
      ]
     },
     "execution_count": 8,
     "metadata": {},
     "output_type": "execute_result"
    }
   ],
   "source": [
    "[x for x in list1 if x%2==0]"
   ]
  },
  {
   "cell_type": "markdown",
   "id": "4201c2e4",
   "metadata": {},
   "source": [
    "- 조건에서 False인 친구들도 다른 방식으로 리스트에 추가하고 싶다면?\n",
    "    - 조건문(if else)을 먼저 넣어준 후에 List Comprehension 실시"
   ]
  },
  {
   "cell_type": "code",
   "execution_count": 10,
   "id": "2c35b02f",
   "metadata": {
    "scrolled": true
   },
   "outputs": [
    {
     "data": {
      "text/plain": [
       "['False', 2, 'False', 4, 'False', 6, 'False', 8, 'False', 10]"
      ]
     },
     "execution_count": 10,
     "metadata": {},
     "output_type": "execute_result"
    }
   ],
   "source": [
    "[x if x%2==0 else 'False' for x in list1]"
   ]
  },
  {
   "cell_type": "code",
   "execution_count": 13,
   "id": "8f0cd6d3",
   "metadata": {
    "scrolled": true
   },
   "outputs": [
    {
     "data": {
      "text/plain": [
       "['False',\n",
       " 'True',\n",
       " 'False',\n",
       " 'True',\n",
       " 'False',\n",
       " 'True',\n",
       " 'False',\n",
       " 'True',\n",
       " 'False',\n",
       " 'True']"
      ]
     },
     "execution_count": 13,
     "metadata": {},
     "output_type": "execute_result"
    }
   ],
   "source": [
    "['True' if x%2==0 else 'False' for x in list1]"
   ]
  },
  {
   "cell_type": "markdown",
   "id": "d918bda1",
   "metadata": {},
   "source": [
    "- 충첩 for문 List Comprehension\n",
    "    - list = 大\n",
    "    - [小 for 中 in 大 for 小 in 中]"
   ]
  },
  {
   "cell_type": "code",
   "execution_count": 14,
   "id": "d94d1a3d",
   "metadata": {},
   "outputs": [
    {
     "data": {
      "text/plain": [
       "[1, 2, 3, 4, 6, 7, 8, 9]"
      ]
     },
     "execution_count": 14,
     "metadata": {},
     "output_type": "execute_result"
    }
   ],
   "source": [
    "list2 = [[1,2,3,4],[6,7,8,9]]\n",
    "[x for y in list2 for x in y]"
   ]
  },
  {
   "cell_type": "markdown",
   "id": "d536edf0",
   "metadata": {},
   "source": [
    "- 응용 "
   ]
  },
  {
   "cell_type": "code",
   "execution_count": 19,
   "id": "0ab9cbc9",
   "metadata": {},
   "outputs": [
    {
     "data": {
      "text/plain": [
       "[9, 11, 12, 13, 14, 15, 16, 17, 18, 19, 21, 22, 23, 24, 25, 26, 27, 28, 29]"
      ]
     },
     "execution_count": 19,
     "metadata": {},
     "output_type": "execute_result"
    }
   ],
   "source": [
    "trash = [10,20,30]\n",
    "list = range(31)\n",
    "\n",
    "[x for x in list if x not in trash and x>=9]"
   ]
  },
  {
   "cell_type": "markdown",
   "id": "58b33f2a",
   "metadata": {},
   "source": [
    "- 다음 문장에서 \"토\"가 몇번 나왔을까?"
   ]
  },
  {
   "cell_type": "code",
   "execution_count": 1,
   "id": "610524b4",
   "metadata": {},
   "outputs": [],
   "source": [
    "corpus = \"산토끼 토끼야. 어디를 가느냐. 깡충깡충 뛰면서. 어디를 가느냐. 산 고개 고개를. 나 혼자 넘어서. 토실토실 알밤을. 주워 올 테야.\""
   ]
  },
  {
   "cell_type": "code",
   "execution_count": 2,
   "id": "abbe27e3",
   "metadata": {
    "scrolled": true
   },
   "outputs": [
    {
     "data": {
      "text/plain": [
       "4"
      ]
     },
     "execution_count": 2,
     "metadata": {},
     "output_type": "execute_result"
    }
   ],
   "source": [
    "len([x for x in list(corpus) if x == '토'])"
   ]
  }
 ],
 "metadata": {
  "kernelspec": {
   "display_name": "Python 3 (ipykernel)",
   "language": "python",
   "name": "python3"
  },
  "language_info": {
   "codemirror_mode": {
    "name": "ipython",
    "version": 3
   },
   "file_extension": ".py",
   "mimetype": "text/x-python",
   "name": "python",
   "nbconvert_exporter": "python",
   "pygments_lexer": "ipython3",
   "version": "3.9.12"
  }
 },
 "nbformat": 4,
 "nbformat_minor": 5
}
